{
 "cells": [
  {
   "cell_type": "code",
   "execution_count": 15,
   "id": "fb2ff0b3",
   "metadata": {},
   "outputs": [
    {
     "name": "stdout",
     "output_type": "stream",
     "text": [
      "Requirement already satisfied: pandas in c:\\users\\desktop\\appdata\\local\\packages\\pythonsoftwarefoundation.python.3.11_qbz5n2kfra8p0\\localcache\\local-packages\\python311\\site-packages (2.3.0)\n",
      "Requirement already satisfied: faker in c:\\users\\desktop\\appdata\\local\\packages\\pythonsoftwarefoundation.python.3.11_qbz5n2kfra8p0\\localcache\\local-packages\\python311\\site-packages (37.11.0)\n",
      "Requirement already satisfied: requests in c:\\users\\desktop\\appdata\\local\\packages\\pythonsoftwarefoundation.python.3.11_qbz5n2kfra8p0\\localcache\\local-packages\\python311\\site-packages (2.32.4)\n",
      "Requirement already satisfied: python-dotenv in c:\\users\\desktop\\appdata\\local\\packages\\pythonsoftwarefoundation.python.3.11_qbz5n2kfra8p0\\localcache\\local-packages\\python311\\site-packages (1.1.1)\n",
      "Requirement already satisfied: numpy>=1.23.2 in c:\\users\\desktop\\appdata\\local\\packages\\pythonsoftwarefoundation.python.3.11_qbz5n2kfra8p0\\localcache\\local-packages\\python311\\site-packages (from pandas) (2.3.0)\n",
      "Requirement already satisfied: python-dateutil>=2.8.2 in c:\\users\\desktop\\appdata\\local\\packages\\pythonsoftwarefoundation.python.3.11_qbz5n2kfra8p0\\localcache\\local-packages\\python311\\site-packages (from pandas) (2.9.0.post0)\n",
      "Requirement already satisfied: pytz>=2020.1 in c:\\users\\desktop\\appdata\\local\\packages\\pythonsoftwarefoundation.python.3.11_qbz5n2kfra8p0\\localcache\\local-packages\\python311\\site-packages (from pandas) (2025.2)\n",
      "Requirement already satisfied: tzdata>=2022.7 in c:\\users\\desktop\\appdata\\local\\packages\\pythonsoftwarefoundation.python.3.11_qbz5n2kfra8p0\\localcache\\local-packages\\python311\\site-packages (from pandas) (2025.2)\n",
      "Requirement already satisfied: charset_normalizer<4,>=2 in c:\\users\\desktop\\appdata\\local\\packages\\pythonsoftwarefoundation.python.3.11_qbz5n2kfra8p0\\localcache\\local-packages\\python311\\site-packages (from requests) (3.4.2)\n",
      "Requirement already satisfied: idna<4,>=2.5 in c:\\users\\desktop\\appdata\\local\\packages\\pythonsoftwarefoundation.python.3.11_qbz5n2kfra8p0\\localcache\\local-packages\\python311\\site-packages (from requests) (3.10)\n",
      "Requirement already satisfied: urllib3<3,>=1.21.1 in c:\\users\\desktop\\appdata\\local\\packages\\pythonsoftwarefoundation.python.3.11_qbz5n2kfra8p0\\localcache\\local-packages\\python311\\site-packages (from requests) (2.5.0)\n",
      "Requirement already satisfied: certifi>=2017.4.17 in c:\\users\\desktop\\appdata\\local\\packages\\pythonsoftwarefoundation.python.3.11_qbz5n2kfra8p0\\localcache\\local-packages\\python311\\site-packages (from requests) (2025.6.15)\n",
      "Requirement already satisfied: six>=1.5 in c:\\users\\desktop\\appdata\\local\\packages\\pythonsoftwarefoundation.python.3.11_qbz5n2kfra8p0\\localcache\\local-packages\\python311\\site-packages (from python-dateutil>=2.8.2->pandas) (1.17.0)\n"
     ]
    },
    {
     "name": "stderr",
     "output_type": "stream",
     "text": [
      "\n",
      "[notice] A new release of pip is available: 24.0 -> 25.2\n",
      "[notice] To update, run: C:\\Users\\Desktop\\AppData\\Local\\Microsoft\\WindowsApps\\PythonSoftwareFoundation.Python.3.11_qbz5n2kfra8p0\\python.exe -m pip install --upgrade pip\n"
     ]
    }
   ],
   "source": [
    "!pip install pandas faker requests python-dotenv\n"
   ]
  },
  {
   "cell_type": "code",
   "execution_count": 16,
   "id": "d7d43493",
   "metadata": {},
   "outputs": [],
   "source": [
    "import pandas as pd\n",
    "from faker import Faker\n",
    "import random\n",
    "import uuid\n",
    "import requests\n",
    "import json\n",
    "import os\n",
    "from dotenv import load_dotenv"
   ]
  },
  {
   "cell_type": "code",
   "execution_count": 23,
   "id": "6f757f69",
   "metadata": {},
   "outputs": [],
   "source": [
    "fake = Faker('pt_BR')\n",
    "leads = []\n",
    "\n",
    "# Crie uma lista de cargos variados para a lógica de qualificação no n8n\n",
    "cargos = [\n",
    "    'Diretor de Vendas', 'Gerente de Marketing', 'Líder de Equipe',\n",
    "    'Analista Financeiro', 'Especialista em TI', 'Assistente Administrativo',\n",
    "    'Coordenador de Projetos', 'Cientista de Dados', 'Engenheiro de Software']\n",
    "\n",
    "# Gera 100 leads\n",
    "for i in range(3):\n",
    "    # Campos obrigatórios\n",
    "    lead_id = str(uuid.uuid4())\n",
    "    nome = fake.name()\n",
    "    email = fake.email()\n",
    "    \n",
    "    # Campos com chance de serem nulos\n",
    "    telefone = fake.phone_number() if random.random() < 0.8 else None\n",
    "    empresa = fake.company() if random.random() < 0.9 else None\n",
    "    cargo = random.choice(cargos)\n",
    "    nascimento = fake.date_of_birth(minimum_age=20, maximum_age=60).strftime('%Y-%m-%d')\n",
    "    data_admissao = fake.date_this_decade().strftime('%Y-%m-%d')\n",
    "\n",
    "    lead = {\n",
    "        'id': lead_id,\n",
    "        'nome': nome,\n",
    "        'email': email,\n",
    "        'telefone': telefone,\n",
    "        'cargo': cargo,\n",
    "        'empresa': empresa,\n",
    "        'nascimento': nascimento,\n",
    "        'data_admissao': data_admissao}\n",
    "    leads.append(lead)\n",
    "\n",
    "df = pd.DataFrame(leads)"
   ]
  },
  {
   "cell_type": "code",
   "execution_count": 24,
   "id": "30d15cb5",
   "metadata": {},
   "outputs": [
    {
     "data": {
      "text/html": [
       "<div>\n",
       "<style scoped>\n",
       "    .dataframe tbody tr th:only-of-type {\n",
       "        vertical-align: middle;\n",
       "    }\n",
       "\n",
       "    .dataframe tbody tr th {\n",
       "        vertical-align: top;\n",
       "    }\n",
       "\n",
       "    .dataframe thead th {\n",
       "        text-align: right;\n",
       "    }\n",
       "</style>\n",
       "<table border=\"1\" class=\"dataframe\">\n",
       "  <thead>\n",
       "    <tr style=\"text-align: right;\">\n",
       "      <th></th>\n",
       "      <th>id</th>\n",
       "      <th>nome</th>\n",
       "      <th>email</th>\n",
       "      <th>telefone</th>\n",
       "      <th>cargo</th>\n",
       "      <th>empresa</th>\n",
       "      <th>nascimento</th>\n",
       "      <th>data_admissao</th>\n",
       "    </tr>\n",
       "  </thead>\n",
       "  <tbody>\n",
       "    <tr>\n",
       "      <th>0</th>\n",
       "      <td>e96e0181-cdc6-43a6-80e9-be4460427689</td>\n",
       "      <td>Larissa Melo</td>\n",
       "      <td>fonsecalevi@example.org</td>\n",
       "      <td>None</td>\n",
       "      <td>Analista Financeiro</td>\n",
       "      <td>Lopes Ltda.</td>\n",
       "      <td>1974-03-26</td>\n",
       "      <td>2020-06-19</td>\n",
       "    </tr>\n",
       "    <tr>\n",
       "      <th>1</th>\n",
       "      <td>328f8547-31df-4d70-93ac-59c8adf89536</td>\n",
       "      <td>Rafael Lopes</td>\n",
       "      <td>matteoduarte@example.org</td>\n",
       "      <td>+55 84 3097 1580</td>\n",
       "      <td>Engenheiro de Software</td>\n",
       "      <td>Abreu e Filhos</td>\n",
       "      <td>1967-08-03</td>\n",
       "      <td>2020-08-22</td>\n",
       "    </tr>\n",
       "    <tr>\n",
       "      <th>2</th>\n",
       "      <td>ea343e1d-4849-45a4-9b21-9c393f4334ca</td>\n",
       "      <td>João Lucas Alves</td>\n",
       "      <td>costajoaquim@example.net</td>\n",
       "      <td>+55 (011) 7097 2521</td>\n",
       "      <td>Especialista em TI</td>\n",
       "      <td>Nascimento - ME</td>\n",
       "      <td>1990-08-24</td>\n",
       "      <td>2022-07-26</td>\n",
       "    </tr>\n",
       "  </tbody>\n",
       "</table>\n",
       "</div>"
      ],
      "text/plain": [
       "                                     id              nome  \\\n",
       "0  e96e0181-cdc6-43a6-80e9-be4460427689      Larissa Melo   \n",
       "1  328f8547-31df-4d70-93ac-59c8adf89536      Rafael Lopes   \n",
       "2  ea343e1d-4849-45a4-9b21-9c393f4334ca  João Lucas Alves   \n",
       "\n",
       "                      email             telefone                   cargo  \\\n",
       "0   fonsecalevi@example.org                 None     Analista Financeiro   \n",
       "1  matteoduarte@example.org     +55 84 3097 1580  Engenheiro de Software   \n",
       "2  costajoaquim@example.net  +55 (011) 7097 2521      Especialista em TI   \n",
       "\n",
       "           empresa  nascimento data_admissao  \n",
       "0      Lopes Ltda.  1974-03-26    2020-06-19  \n",
       "1   Abreu e Filhos  1967-08-03    2020-08-22  \n",
       "2  Nascimento - ME  1990-08-24    2022-07-26  "
      ]
     },
     "execution_count": 24,
     "metadata": {},
     "output_type": "execute_result"
    }
   ],
   "source": [
    "df"
   ]
  },
  {
   "cell_type": "code",
   "execution_count": 25,
   "id": "34334a6f",
   "metadata": {},
   "outputs": [
    {
     "name": "stdout",
     "output_type": "stream",
     "text": [
      "Lead 1 enviado com sucesso. Resposta: {\"message\":\"Workflow was started\"}\n",
      "Lead 2 enviado com sucesso. Resposta: {\"message\":\"Workflow was started\"}\n",
      "Lead 3 enviado com sucesso. Resposta: {\"message\":\"Workflow was started\"}\n"
     ]
    }
   ],
   "source": [
    "load_dotenv()\n",
    "\n",
    "webhook_url = os.getenv('N8N_WEBHOOK_URL')\n",
    "\n",
    "if not webhook_url:\n",
    "    print(\"Erro: A variável de ambiente N8N_WEBHOOK_URL não foi encontrada. Verifique o seu arquivo .env.\")\n",
    "else:\n",
    "    # Itera sobre cada linha (lead) do DataFrame e envia para o Webhook\n",
    "    for index, row in df.iterrows():\n",
    "        lead_json = row.to_dict()\n",
    "        \n",
    "        try:\n",
    "            response = requests.post(webhook_url, data=json.dumps(lead_json), headers={'Content-Type': 'application/json'})\n",
    "            \n",
    "            if response.status_code == 200:\n",
    "                print(f\"Lead {index+1} enviado com sucesso. Resposta: {response.text}\")\n",
    "            else:\n",
    "                print(f\"Erro ao enviar lead {index+1}. Status: {response.status_code}, Resposta: {response.text}\")\n",
    "\n",
    "        except requests.exceptions.RequestException as e:\n",
    "            print(f\"Erro de conexão ao enviar lead {index+1}: {e}\")"
   ]
  }
 ],
 "metadata": {
  "kernelspec": {
   "display_name": "Python 3",
   "language": "python",
   "name": "python3"
  },
  "language_info": {
   "codemirror_mode": {
    "name": "ipython",
    "version": 3
   },
   "file_extension": ".py",
   "mimetype": "text/x-python",
   "name": "python",
   "nbconvert_exporter": "python",
   "pygments_lexer": "ipython3",
   "version": "3.11.9"
  }
 },
 "nbformat": 4,
 "nbformat_minor": 5
}
